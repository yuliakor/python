{
 "cells": [
  {
   "cell_type": "markdown",
   "metadata": {},
   "source": [
    "# Task 1"
   ]
  },
  {
   "cell_type": "code",
   "execution_count": null,
   "metadata": {},
   "outputs": [],
   "source": [
    "#1. Даны 2 строки long_phrase и short_phrase. \n",
    "#Напишите код, который проверяет действительно ли длинная фраза \n",
    "#long_phrase длиннее короткой short_phrase. И выводит True или False в зависимости от результата сравнения.\n",
    "\n",
    "long_phrase = 'Насколько проще было бы писать программы, если бы не заказчики'\n",
    "short_phrase = '640Кб должно хватить для любых задач. Билл Гейтс (по легенде)'"
   ]
  },
  {
   "cell_type": "code",
   "execution_count": null,
   "metadata": {},
   "outputs": [],
   "source": [
    "len(long_phrase) > len(short_phrase)"
   ]
  },
  {
   "cell_type": "markdown",
   "metadata": {},
   "source": [
    "# Task 2"
   ]
  },
  {
   "cell_type": "code",
   "execution_count": null,
   "metadata": {},
   "outputs": [],
   "source": [
    "#2. Дана строка text. Определите какая из двух букв встречается в нем чаще - 'а' или 'и'.\n",
    "text = 'Если программист в 9-00 утра на работе, значит, он там и ночевал'\n",
    "if text.count('a') > text.count('и'):\n",
    "    print(\"буква 'a' встречается в строке чаще\")\n",
    "else:\n",
    "    print(\"буква 'и' встречается в строке чаще\")"
   ]
  },
  {
   "cell_type": "markdown",
   "metadata": {},
   "source": [
    "# Task 3"
   ]
  },
  {
   "cell_type": "code",
   "execution_count": null,
   "metadata": {},
   "outputs": [],
   "source": [
    "#Дано значение объема файла в байтах. Напишите перевод этого значения в мегабайты в формате:\n",
    "#'Объем файла равен 213.68Mb'\n",
    "\n",
    "#P. S. Найдите определение килобайта. Это не 1000 байт."
   ]
  },
  {
   "cell_type": "code",
   "execution_count": null,
   "metadata": {},
   "outputs": [],
   "source": [
    "a = int(input())\n",
    "b = a / 1048576\n",
    "print('Объем файла равен' + ' '+ str(round(b)) + 'Mb')"
   ]
  },
  {
   "cell_type": "markdown",
   "metadata": {},
   "source": [
    "# Task 4"
   ]
  },
  {
   "cell_type": "code",
   "execution_count": null,
   "metadata": {},
   "outputs": [],
   "source": [
    "#Выведите на экран значение синуса 30 градусов с помощью метода math.sinВыведите \n",
    "#на экран значение синуса 30 градусов с помощью метода math.sin"
   ]
  },
  {
   "cell_type": "code",
   "execution_count": null,
   "metadata": {},
   "outputs": [],
   "source": [
    "import math\n",
    "math.sin(30*math.pi/180)"
   ]
  },
  {
   "cell_type": "markdown",
   "metadata": {},
   "source": [
    "# Task 5"
   ]
  },
  {
   "cell_type": "code",
   "execution_count": null,
   "metadata": {},
   "outputs": [],
   "source": [
    "#5. В прошлом задании у вас скорее всего не получилось точного значения 0.5 из-за конечной точности вычисления синуса.\n",
    "#Но почему некоторые простые операции также могут давать неточный результат? \n",
    "#Попробуйте вывести на экран результат операции 0.1 + 0.2. Почему результат неточен?\n",
    "print(0.1 + 0.2)"
   ]
  },
  {
   "cell_type": "code",
   "execution_count": null,
   "metadata": {},
   "outputs": [],
   "source": [
    "#В связи с тем, что числа с плавающей точкой всегда хранятся в форме двоичной строки \n",
    "#заданной точности (основание системы счисления - 2), их значение в привычной нам десятиричной системе \n",
    "#редко является точным и чаще всего апроксимирует заданное. Например, число 0.1 невозможно отобразить \n",
    "#как степень двойки с заданной точностью, поэтому в памяти оно\n",
    "#будет иметь вид периодической двоичной \n",
    "#дроби вида 0.0001100110011001100110011001100110011001100110011(0011)."
   ]
  },
  {
   "cell_type": "markdown",
   "metadata": {},
   "source": [
    "# Task 6"
   ]
  },
  {
   "cell_type": "code",
   "execution_count": null,
   "metadata": {},
   "outputs": [],
   "source": [
    "\n",
    "#В переменных a и b записаны 2 различных числа.\n",
    "#Вам необходимо написать код, который меняет значения a и b местами без использования третьей переменной.\n",
    "a = int(input())\n",
    "b = int(input())\n",
    "a=a+b\n",
    "b=a-b\n",
    "a=a-b\n",
    "print(a,b)"
   ]
  },
  {
   "cell_type": "markdown",
   "metadata": {},
   "source": [
    "# Task 7"
   ]
  },
  {
   "cell_type": "code",
   "execution_count": 5,
   "metadata": {},
   "outputs": [
    {
     "name": "stdout",
     "output_type": "stream",
     "text": [
      "19\n"
     ]
    }
   ],
   "source": [
    "#Дано число в двоичной системе счисления: num=10011. Напишите алгоритм перевода этого числа в привычную нам \n",
    "#десятичную систему счисления.\n",
    "#Возможно, вам понадобится цикл прохождения всех целых чисел от 0 до m:\n",
    "\n",
    "binary = 10011\n",
    "decimal = 0\n",
    "for digit in range(len(str(binary))):\n",
    "    decimal = decimal + int(str(binary)[digit])*(2**(len(str(binary))-digit-1))\n",
    "print(decimal)"
   ]
  },
  {
   "cell_type": "code",
   "execution_count": null,
   "metadata": {},
   "outputs": [],
   "source": []
  },
  {
   "cell_type": "code",
   "execution_count": null,
   "metadata": {},
   "outputs": [],
   "source": []
  }
 ],
 "metadata": {
  "kernelspec": {
   "display_name": "Python 3",
   "language": "python",
   "name": "python3"
  },
  "language_info": {
   "codemirror_mode": {
    "name": "ipython",
    "version": 3
   },
   "file_extension": ".py",
   "mimetype": "text/x-python",
   "name": "python",
   "nbconvert_exporter": "python",
   "pygments_lexer": "ipython3",
   "version": "3.7.3"
  }
 },
 "nbformat": 4,
 "nbformat_minor": 2
}
